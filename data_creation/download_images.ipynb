{
 "cells": [
  {
   "cell_type": "markdown",
   "metadata": {},
   "source": [
    "# Image Combing Notebook \n",
    "This notebook aims to retrieve images from Unsplash for the purpose of dataset creation due to the scarcity of accessible, quality food dataset."
   ]
  },
  {
   "cell_type": "markdown",
   "metadata": {},
   "source": [
    "## Import Statements"
   ]
  },
  {
   "cell_type": "code",
   "execution_count": 1,
   "metadata": {},
   "outputs": [],
   "source": [
    "import configparser\n",
    "import requests\n",
    "import os"
   ]
  },
  {
   "cell_type": "markdown",
   "metadata": {},
   "source": [
    "## Read Configs"
   ]
  },
  {
   "cell_type": "code",
   "execution_count": 2,
   "metadata": {},
   "outputs": [],
   "source": [
    "config = configparser.ConfigParser()\n",
    "config.read('configs.ini')\n",
    "api_key = config['API']['api_key']"
   ]
  },
  {
   "cell_type": "markdown",
   "metadata": {},
   "source": [
    "## Function Declarations"
   ]
  },
  {
   "cell_type": "code",
   "execution_count": 3,
   "metadata": {},
   "outputs": [],
   "source": [
    "\n",
    "def download_images(query, num_images, api_key):\n",
    "    data_dir = \"../data\"\n",
    "    if not os.path.exists(data_dir):\n",
    "        os.makedirs(data_dir)\n",
    "\n",
    "    # Check if a folder with the query name already exists\n",
    "    base_folder = os.path.join(data_dir, query)\n",
    "    if os.path.exists(base_folder):\n",
    "        i = 1\n",
    "        while os.path.exists(os.path.join(data_dir, f\"{query}_v{i}\")):\n",
    "            i += 1\n",
    "        base_folder = os.path.join(data_dir, f\"{query}_v{i}\")\n",
    "\n",
    "    os.makedirs(base_folder)\n",
    "\n",
    "    url = f\"https://api.unsplash.com/photos/random?query={query}&count={num_images}&client_id={api_key}\"\n",
    "    response = requests.get(url)\n",
    "    response.raise_for_status()\n",
    "    data = response.json()\n",
    "\n",
    "    try:\n",
    "        for i, photo in enumerate(data):\n",
    "            image_url = photo[\"urls\"][\"regular\"]\n",
    "            image_response = requests.get(image_url)\n",
    "\n",
    "            image_path = os.path.join(base_folder, f\"{query}_{i + 1}.jpg\")\n",
    "            with open(image_path, \"wb\") as f:\n",
    "                f.write(image_response.content)\n",
    "\n",
    "            print(f\"Downloaded image {i + 1} to {image_path}\")\n",
    "\n",
    "    except requests.exceptions.HTTPError as http_err:\n",
    "        print(f\"HTTP error occurred: {http_err}\")\n",
    "    except Exception as e:\n",
    "        print(f\"Other error occurred: {e}\")"
   ]
  },
  {
   "cell_type": "markdown",
   "metadata": {},
   "source": [
    "## Main Program"
   ]
  },
  {
   "cell_type": "code",
   "execution_count": 6,
   "metadata": {},
   "outputs": [],
   "source": [
    "# Set the query for the images you want\n",
    "query = \"burger\"\n",
    "\n",
    "# Set the number of images you want to download\n",
    "num_images = 15"
   ]
  },
  {
   "cell_type": "code",
   "execution_count": 7,
   "metadata": {},
   "outputs": [
    {
     "name": "stdout",
     "output_type": "stream",
     "text": [
      "Downloaded image 1 to ../data/burger_v1/burger_1.jpg\n",
      "Downloaded image 2 to ../data/burger_v1/burger_2.jpg\n",
      "Downloaded image 3 to ../data/burger_v1/burger_3.jpg\n",
      "Downloaded image 4 to ../data/burger_v1/burger_4.jpg\n",
      "Downloaded image 5 to ../data/burger_v1/burger_5.jpg\n",
      "Downloaded image 6 to ../data/burger_v1/burger_6.jpg\n",
      "Downloaded image 7 to ../data/burger_v1/burger_7.jpg\n",
      "Downloaded image 8 to ../data/burger_v1/burger_8.jpg\n",
      "Downloaded image 9 to ../data/burger_v1/burger_9.jpg\n",
      "Downloaded image 10 to ../data/burger_v1/burger_10.jpg\n",
      "Downloaded image 11 to ../data/burger_v1/burger_11.jpg\n",
      "Downloaded image 12 to ../data/burger_v1/burger_12.jpg\n",
      "Downloaded image 13 to ../data/burger_v1/burger_13.jpg\n",
      "Downloaded image 14 to ../data/burger_v1/burger_14.jpg\n",
      "Downloaded image 15 to ../data/burger_v1/burger_15.jpg\n"
     ]
    }
   ],
   "source": [
    "download_images(query, num_images, api_key)"
   ]
  },
  {
   "cell_type": "code",
   "execution_count": null,
   "metadata": {},
   "outputs": [],
   "source": []
  }
 ],
 "metadata": {
  "kernelspec": {
   "display_name": "caloriescv",
   "language": "python",
   "name": "python3"
  },
  "language_info": {
   "codemirror_mode": {
    "name": "ipython",
    "version": 3
   },
   "file_extension": ".py",
   "mimetype": "text/x-python",
   "name": "python",
   "nbconvert_exporter": "python",
   "pygments_lexer": "ipython3",
   "version": "3.12.0"
  }
 },
 "nbformat": 4,
 "nbformat_minor": 2
}
