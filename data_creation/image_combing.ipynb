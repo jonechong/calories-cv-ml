{
 "cells": [
  {
   "cell_type": "markdown",
   "metadata": {},
   "source": [
    "# Image Combing Notebook \n",
    "This notebook aims to retrieve images from the internet for the purpose of dataset creation due to the scarcity of accessible, quality food dataset"
   ]
  },
  {
   "cell_type": "markdown",
   "metadata": {},
   "source": [
    "## Import statements"
   ]
  },
  {
   "cell_type": "code",
   "execution_count": null,
   "metadata": {},
   "outputs": [],
   "source": [
    "import os\n",
    "import requests\n",
    "import configparser\n",
    "import urllib.request\n",
    "from bs4 import BeautifulSoup"
   ]
  },
  {
   "cell_type": "markdown",
   "metadata": {},
   "source": [
    "## Read configs"
   ]
  },
  {
   "cell_type": "code",
   "execution_count": null,
   "metadata": {},
   "outputs": [],
   "source": [
    "config = configparser.ConfigParser()\n",
    "config.read('configs.ini')\n",
    "api_key = config['API']['custom_search_api_key']\n",
    "cx = config['API']['custom_search_cx']\n",
    "user_agent = config['UserAgents']['user_agent']\n",
    "geolocation = config['API']['geolocation']\n",
    "host_language = config['API']['host_language']"
   ]
  },
  {
   "cell_type": "markdown",
   "metadata": {},
   "source": [
    "## Set up a Custom Search JSON API clien"
   ]
  },
  {
   "cell_type": "code",
   "execution_count": null,
   "metadata": {},
   "outputs": [],
   "source": [
    "service = build(\"customsearch\", \"v1\", developerKey=api_key)"
   ]
  },
  {
   "cell_type": "markdown",
   "metadata": {},
   "source": [
    "## Function Declarations"
   ]
  },
  {
   "cell_type": "code",
   "execution_count": null,
   "metadata": {},
   "outputs": [],
   "source": [
    "def get_soup(url, header):\n",
    "    return BeautifulSoup(requests.get(url, headers=header).text, 'html.parser')\n",
    "\n",
    "def retrieve_images(search_query, num_images, user_agent):\n",
    "    # NOT IMPLEMENTED\n",
    "    pass"
   ]
  },
  {
   "cell_type": "markdown",
   "metadata": {},
   "source": [
    "## Main Program"
   ]
  },
  {
   "cell_type": "markdown",
   "metadata": {},
   "source": [
    "### Define params"
   ]
  },
  {
   "cell_type": "code",
   "execution_count": null,
   "metadata": {},
   "outputs": [],
   "source": [
    "target_food = 'hainanese chicken rice'\n",
    "search_queries = ['Singaporean chicken rice', 'Malaysian chicken rice', 'chinese chicken rice']\n",
    "no_of_imgs = 190\n",
    "#This refers to the number of images you already have. \n",
    "#So if you already have 30 images, this value will be 30\n",
    "# Note that the api really only allows you to fetch 200 images, even though the documentation says 100 images of results.\n",
    "start_num = 200\n",
    "# download_directory = f'../data/{search_query.replace(\" \", \"_\")}' # Replace directory with desired path\n",
    "download_directory = f'../data/{target_food.replace(\" \", \"_\")}' # Replace directory with desired path\n"
   ]
  },
  {
   "cell_type": "code",
   "execution_count": null,
   "metadata": {},
   "outputs": [],
   "source": [
    "images = []\n",
    "for search_query in search_queries:\n",
    "    images = fetch_images(cx, search_query, no_of_imgs, geolocation, host_language)\n",
    "    image_links = [image['link'] for image in images]\n",
    "    download_images(image_links, download_directory, start_num)\n",
    "    start_num += no_of_imgs"
   ]
  },
  {
   "cell_type": "markdown",
   "metadata": {},
   "source": [
    "### Call fetch function"
   ]
  },
  {
   "cell_type": "code",
   "execution_count": null,
   "metadata": {},
   "outputs": [],
   "source": [
    "images = fetch_images(cx, search_query, no_of_imgs, geolocation, host_language)"
   ]
  },
  {
   "cell_type": "markdown",
   "metadata": {},
   "source": [
    "### Retrieve images links"
   ]
  },
  {
   "cell_type": "code",
   "execution_count": null,
   "metadata": {},
   "outputs": [],
   "source": [
    "image_links = [image['link'] for image in images]"
   ]
  },
  {
   "cell_type": "markdown",
   "metadata": {},
   "source": [
    "### Download the images"
   ]
  },
  {
   "cell_type": "code",
   "execution_count": null,
   "metadata": {},
   "outputs": [],
   "source": [
    "download_images(image_links, download_directory, start_num)"
   ]
  }
 ],
 "metadata": {
  "kernelspec": {
   "display_name": "calories-cv",
   "language": "python",
   "name": "python3"
  },
  "language_info": {
   "codemirror_mode": {
    "name": "ipython",
    "version": 3
   },
   "file_extension": ".py",
   "mimetype": "text/x-python",
   "name": "python",
   "nbconvert_exporter": "python",
   "pygments_lexer": "ipython3",
   "version": "3.9.18"
  }
 },
 "nbformat": 4,
 "nbformat_minor": 2
}
